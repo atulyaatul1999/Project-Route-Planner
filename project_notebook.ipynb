{
 "cells": [
  {
   "cell_type": "markdown",
   "metadata": {
    "collapsed": true
   },
   "source": [
    "# Implementing a Route Planner\n",
    "In this project you will use A\\* search to implement a \"Google-maps\" style route planning algorithm."
   ]
  },
  {
   "cell_type": "code",
   "execution_count": null,
   "metadata": {},
   "outputs": [],
   "source": [
    "# Run this cell first!\n",
    "\n",
    "from helpers import Map, load_map, show_map\n",
    "from student_code import shortest_path\n",
    "\n",
    "%load_ext autoreload\n",
    "%autoreload 2"
   ]
  },
  {
   "cell_type": "markdown",
   "metadata": {},
   "source": [
    "### Map Basics"
   ]
  },
  {
   "cell_type": "code",
   "execution_count": 2,
   "metadata": {},
   "outputs": [
    {
     "data": {
      "application/vnd.plotly.v1+json": {
       "data": [
        {
         "hoverinfo": "none",
         "line": {
          "color": "#888",
          "width": 0.5
         },
         "mode": "lines",
         "type": "scatter",
         "x": [
          0.7798606835438107,
          0.46247219371675075,
          null,
          0.7798606835438107,
          0.8820353070895344,
          null,
          0.7798606835438107,
          0.49016747075266875,
          null,
          0.7647837074641568,
          0.8325506249953353,
          null,
          0.7647837074641568,
          0.7076566826610747,
          null,
          0.7647837074641568,
          0.7155217893995438,
          null,
          0.7155217893995438,
          0.8325506249953353,
          null,
          0.7155217893995438,
          0.7076566826610747,
          null,
          0.7076566826610747,
          0.49016747075266875,
          null,
          0.7076566826610747,
          0.8325506249953353,
          null,
          0.49016747075266875,
          0.46247219371675075,
          null,
          0.11622158839385677,
          0.1285377678230034,
          null
         ],
         "y": [
          0.6922727646627362,
          0.6258061621642713,
          null,
          0.6922727646627362,
          0.6791919587749445,
          null,
          0.6922727646627362,
          0.5464878695400415,
          null,
          0.3252670836724646,
          0.02310946309985762,
          null,
          0.3252670836724646,
          0.3278339270610988,
          null,
          0.3252670836724646,
          0.20026498027300055,
          null,
          0.20026498027300055,
          0.02310946309985762,
          null,
          0.20026498027300055,
          0.3278339270610988,
          null,
          0.3278339270610988,
          0.5464878695400415,
          null,
          0.3278339270610988,
          0.02310946309985762,
          null,
          0.5464878695400415,
          0.6258061621642713,
          null,
          0.11236327488812581,
          0.3285840695698353,
          null
         ]
        },
        {
         "hoverinfo": "text",
         "marker": {
          "color": [
           0,
           0,
           0,
           0,
           0,
           0,
           0,
           0,
           0,
           0
          ],
          "colorbar": {
           "thickness": 15,
           "title": "Node Connections",
           "titleside": "right",
           "xanchor": "left"
          },
          "colorscale": "Hot",
          "line": {
           "width": 2
          },
          "reversescale": true,
          "showscale": false,
          "size": 10
         },
         "mode": "markers",
         "text": [
          "Intersection 0",
          "Intersection 1",
          "Intersection 2",
          "Intersection 3",
          "Intersection 4",
          "Intersection 5",
          "Intersection 6",
          "Intersection 7",
          "Intersection 8",
          "Intersection 9"
         ],
         "type": "scatter",
         "x": [
          0.7798606835438107,
          0.7647837074641568,
          0.7155217893995438,
          0.7076566826610747,
          0.8325506249953353,
          0.49016747075266875,
          0.8820353070895344,
          0.46247219371675075,
          0.11622158839385677,
          0.1285377678230034
         ],
         "y": [
          0.6922727646627362,
          0.3252670836724646,
          0.20026498027300055,
          0.3278339270610988,
          0.02310946309985762,
          0.5464878695400415,
          0.6791919587749445,
          0.6258061621642713,
          0.11236327488812581,
          0.3285840695698353
         ]
        }
       ],
       "layout": {
        "hovermode": "closest",
        "margin": {
         "b": 20,
         "l": 5,
         "r": 5,
         "t": 40
        },
        "showlegend": false,
        "title": "<br>Network graph made with Python",
        "titlefont": {
         "size": 16
        },
        "xaxis": {
         "showgrid": false,
         "showticklabels": false,
         "zeroline": false
        },
        "yaxis": {
         "showgrid": false,
         "showticklabels": false,
         "zeroline": false
        }
       }
      },
      "text/html": [
       "<div id=\"4c8ce5f4-9ffa-449c-91a1-5bb9a3b851d1\" style=\"height: 525px; width: 100%;\" class=\"plotly-graph-div\"></div><script type=\"text/javascript\">require([\"plotly\"], function(Plotly) { window.PLOTLYENV=window.PLOTLYENV || {};window.PLOTLYENV.BASE_URL=\"https://plot.ly\";Plotly.newPlot(\"4c8ce5f4-9ffa-449c-91a1-5bb9a3b851d1\", [{\"type\": \"scatter\", \"x\": [0.7798606835438107, 0.46247219371675075, null, 0.7798606835438107, 0.8820353070895344, null, 0.7798606835438107, 0.49016747075266875, null, 0.7647837074641568, 0.8325506249953353, null, 0.7647837074641568, 0.7076566826610747, null, 0.7647837074641568, 0.7155217893995438, null, 0.7155217893995438, 0.8325506249953353, null, 0.7155217893995438, 0.7076566826610747, null, 0.7076566826610747, 0.49016747075266875, null, 0.7076566826610747, 0.8325506249953353, null, 0.49016747075266875, 0.46247219371675075, null, 0.11622158839385677, 0.1285377678230034, null], \"y\": [0.6922727646627362, 0.6258061621642713, null, 0.6922727646627362, 0.6791919587749445, null, 0.6922727646627362, 0.5464878695400415, null, 0.3252670836724646, 0.02310946309985762, null, 0.3252670836724646, 0.3278339270610988, null, 0.3252670836724646, 0.20026498027300055, null, 0.20026498027300055, 0.02310946309985762, null, 0.20026498027300055, 0.3278339270610988, null, 0.3278339270610988, 0.5464878695400415, null, 0.3278339270610988, 0.02310946309985762, null, 0.5464878695400415, 0.6258061621642713, null, 0.11236327488812581, 0.3285840695698353, null], \"line\": {\"width\": 0.5, \"color\": \"#888\"}, \"hoverinfo\": \"none\", \"mode\": \"lines\"}, {\"type\": \"scatter\", \"x\": [0.7798606835438107, 0.7647837074641568, 0.7155217893995438, 0.7076566826610747, 0.8325506249953353, 0.49016747075266875, 0.8820353070895344, 0.46247219371675075, 0.11622158839385677, 0.1285377678230034], \"y\": [0.6922727646627362, 0.3252670836724646, 0.20026498027300055, 0.3278339270610988, 0.02310946309985762, 0.5464878695400415, 0.6791919587749445, 0.6258061621642713, 0.11236327488812581, 0.3285840695698353], \"text\": [\"Intersection 0\", \"Intersection 1\", \"Intersection 2\", \"Intersection 3\", \"Intersection 4\", \"Intersection 5\", \"Intersection 6\", \"Intersection 7\", \"Intersection 8\", \"Intersection 9\"], \"mode\": \"markers\", \"hoverinfo\": \"text\", \"marker\": {\"showscale\": false, \"colorscale\": \"Hot\", \"reversescale\": true, \"color\": [0, 0, 0, 0, 0, 0, 0, 0, 0, 0], \"size\": 10, \"colorbar\": {\"thickness\": 15, \"title\": \"Node Connections\", \"xanchor\": \"left\", \"titleside\": \"right\"}, \"line\": {\"width\": 2}}}], {\"title\": \"<br>Network graph made with Python\", \"titlefont\": {\"size\": 16}, \"showlegend\": false, \"hovermode\": \"closest\", \"margin\": {\"b\": 20, \"l\": 5, \"r\": 5, \"t\": 40}, \"xaxis\": {\"showgrid\": false, \"zeroline\": false, \"showticklabels\": false}, \"yaxis\": {\"showgrid\": false, \"zeroline\": false, \"showticklabels\": false}}, {\"showLink\": true, \"linkText\": \"Export to plot.ly\"})});</script>"
      ],
      "text/vnd.plotly.v1+html": [
       "<div id=\"4c8ce5f4-9ffa-449c-91a1-5bb9a3b851d1\" style=\"height: 525px; width: 100%;\" class=\"plotly-graph-div\"></div><script type=\"text/javascript\">require([\"plotly\"], function(Plotly) { window.PLOTLYENV=window.PLOTLYENV || {};window.PLOTLYENV.BASE_URL=\"https://plot.ly\";Plotly.newPlot(\"4c8ce5f4-9ffa-449c-91a1-5bb9a3b851d1\", [{\"type\": \"scatter\", \"x\": [0.7798606835438107, 0.46247219371675075, null, 0.7798606835438107, 0.8820353070895344, null, 0.7798606835438107, 0.49016747075266875, null, 0.7647837074641568, 0.8325506249953353, null, 0.7647837074641568, 0.7076566826610747, null, 0.7647837074641568, 0.7155217893995438, null, 0.7155217893995438, 0.8325506249953353, null, 0.7155217893995438, 0.7076566826610747, null, 0.7076566826610747, 0.49016747075266875, null, 0.7076566826610747, 0.8325506249953353, null, 0.49016747075266875, 0.46247219371675075, null, 0.11622158839385677, 0.1285377678230034, null], \"y\": [0.6922727646627362, 0.6258061621642713, null, 0.6922727646627362, 0.6791919587749445, null, 0.6922727646627362, 0.5464878695400415, null, 0.3252670836724646, 0.02310946309985762, null, 0.3252670836724646, 0.3278339270610988, null, 0.3252670836724646, 0.20026498027300055, null, 0.20026498027300055, 0.02310946309985762, null, 0.20026498027300055, 0.3278339270610988, null, 0.3278339270610988, 0.5464878695400415, null, 0.3278339270610988, 0.02310946309985762, null, 0.5464878695400415, 0.6258061621642713, null, 0.11236327488812581, 0.3285840695698353, null], \"line\": {\"width\": 0.5, \"color\": \"#888\"}, \"hoverinfo\": \"none\", \"mode\": \"lines\"}, {\"type\": \"scatter\", \"x\": [0.7798606835438107, 0.7647837074641568, 0.7155217893995438, 0.7076566826610747, 0.8325506249953353, 0.49016747075266875, 0.8820353070895344, 0.46247219371675075, 0.11622158839385677, 0.1285377678230034], \"y\": [0.6922727646627362, 0.3252670836724646, 0.20026498027300055, 0.3278339270610988, 0.02310946309985762, 0.5464878695400415, 0.6791919587749445, 0.6258061621642713, 0.11236327488812581, 0.3285840695698353], \"text\": [\"Intersection 0\", \"Intersection 1\", \"Intersection 2\", \"Intersection 3\", \"Intersection 4\", \"Intersection 5\", \"Intersection 6\", \"Intersection 7\", \"Intersection 8\", \"Intersection 9\"], \"mode\": \"markers\", \"hoverinfo\": \"text\", \"marker\": {\"showscale\": false, \"colorscale\": \"Hot\", \"reversescale\": true, \"color\": [0, 0, 0, 0, 0, 0, 0, 0, 0, 0], \"size\": 10, \"colorbar\": {\"thickness\": 15, \"title\": \"Node Connections\", \"xanchor\": \"left\", \"titleside\": \"right\"}, \"line\": {\"width\": 2}}}], {\"title\": \"<br>Network graph made with Python\", \"titlefont\": {\"size\": 16}, \"showlegend\": false, \"hovermode\": \"closest\", \"margin\": {\"b\": 20, \"l\": 5, \"r\": 5, \"t\": 40}, \"xaxis\": {\"showgrid\": false, \"zeroline\": false, \"showticklabels\": false}, \"yaxis\": {\"showgrid\": false, \"zeroline\": false, \"showticklabels\": false}}, {\"showLink\": true, \"linkText\": \"Export to plot.ly\"})});</script>"
      ]
     },
     "metadata": {},
     "output_type": "display_data"
    }
   ],
   "source": [
    "map_10 = load_map('map-10.pickle')\n",
    "show_map(map_10)"
   ]
  },
  {
   "cell_type": "markdown",
   "metadata": {},
   "source": [
    "The map above (run the code cell if you don't see it) shows a disconnected network of 10 intersections. The two intersections on the left are connected to each other but they are not connected to the rest of the road network. On the graph above, the edge between 2 nodes(intersections) represents a literal straight road not just an abstract connection of 2 cities.\n",
    "\n",
    "These `Map` objects have two properties you will want to use to implement A\\* search: `intersections` and `roads`\n",
    "\n",
    "**Intersections**\n",
    "\n",
    "The `intersections` are represented as a dictionary. \n",
    "\n",
    "In this example, there are 10 intersections, each identified by an x,y coordinate. The coordinates are listed below. You can hover over each dot in the map above to see the intersection number."
   ]
  },
  {
   "cell_type": "code",
   "execution_count": 6,
   "metadata": {},
   "outputs": [
    {
     "data": {
      "text/plain": [
       "{0: [0.7798606835438107, 0.6922727646627362],\n",
       " 1: [0.7647837074641568, 0.3252670836724646],\n",
       " 2: [0.7155217893995438, 0.20026498027300055],\n",
       " 3: [0.7076566826610747, 0.3278339270610988],\n",
       " 4: [0.8325506249953353, 0.02310946309985762],\n",
       " 5: [0.49016747075266875, 0.5464878695400415],\n",
       " 6: [0.8820353070895344, 0.6791919587749445],\n",
       " 7: [0.46247219371675075, 0.6258061621642713],\n",
       " 8: [0.11622158839385677, 0.11236327488812581],\n",
       " 9: [0.1285377678230034, 0.3285840695698353]}"
      ]
     },
     "execution_count": 6,
     "metadata": {},
     "output_type": "execute_result"
    }
   ],
   "source": [
    "map_10.intersections"
   ]
  },
  {
   "cell_type": "markdown",
   "metadata": {},
   "source": [
    "**Roads**\n",
    "\n",
    "The `roads` property is a list where, if `i` is an intersection, `roads[i]` contains a list of the intersections that intersection `i` connects to."
   ]
  },
  {
   "cell_type": "code",
   "execution_count": 3,
   "metadata": {},
   "outputs": [
    {
     "data": {
      "text/plain": [
       "[7, 6, 5]"
      ]
     },
     "execution_count": 3,
     "metadata": {},
     "output_type": "execute_result"
    }
   ],
   "source": [
    "# this shows that intersection 0 connects to intersections 7, 6, and 5\n",
    "map_10.roads[0] "
   ]
  },
  {
   "cell_type": "code",
   "execution_count": 5,
   "metadata": {},
   "outputs": [
    {
     "data": {
      "text/plain": [
       "[[7, 6, 5],\n",
       " [4, 3, 2],\n",
       " [4, 3, 1],\n",
       " [5, 4, 1, 2],\n",
       " [1, 2, 3],\n",
       " [7, 0, 3],\n",
       " [0],\n",
       " [0, 5],\n",
       " [9],\n",
       " [8]]"
      ]
     },
     "execution_count": 5,
     "metadata": {},
     "output_type": "execute_result"
    }
   ],
   "source": [
    "# This shows the full connectivity of the map\n",
    "map_10.roads"
   ]
  },
  {
   "cell_type": "code",
   "execution_count": null,
   "metadata": {},
   "outputs": [],
   "source": [
    "# map_40 is a bigger map than map_10\n",
    "map_40 = load_map('map-40.pickle')\n",
    "show_map(map_40)"
   ]
  },
  {
   "cell_type": "markdown",
   "metadata": {},
   "source": [
    "### Advanced Visualizations\n",
    "\n",
    "The map above shows a network of roads which spans 40 different intersections (labeled 0 through 39). \n",
    "\n",
    "The `show_map` function which generated this map also takes a few optional parameters which might be useful for visualizaing the output of the search algorithm you will write.\n",
    "\n",
    "* `start` - The \"start\" node for the search algorithm.\n",
    "* `goal`  - The \"goal\" node.\n",
    "* `path`  - An array of integers which corresponds to a valid sequence of intersection visits on the map."
   ]
  },
  {
   "cell_type": "code",
   "execution_count": null,
   "metadata": {},
   "outputs": [],
   "source": [
    "# run this code, note the effect of including the optional\n",
    "# parameters in the function call.\n",
    "show_map(map_40, start=5, goal=34, path=[5,16,37,12,34])"
   ]
  },
  {
   "cell_type": "markdown",
   "metadata": {},
   "source": [
    "### Writing your algorithm\n",
    "You should open the file `student_code.py` in another tab and work on your algorithm there. Do that by selecting `File > Open` and then selecting the appropriate file.\n",
    "\n",
    "The algorithm you write will be responsible for generating a `path` like the one passed into `show_map` above. In fact, when called with the same map, start and goal, as above you algorithm should produce the path `[5, 16, 37, 12, 34]`\n",
    "\n",
    "```bash\n",
    "> shortest_path(map_40, 5, 34)\n",
    "[5, 16, 37, 12, 34]\n",
    "```"
   ]
  },
  {
   "cell_type": "code",
   "execution_count": null,
   "metadata": {},
   "outputs": [],
   "source": [
    "path=shortest_path(map_40, 8, 24)\n",
    "print(path)\n",
    "#[8, 14, 16, 37, 12, 17, 10, 24]"
   ]
  },
  {
   "cell_type": "markdown",
   "metadata": {},
   "source": [
    "### Testing your Code\n",
    "If the code below produces no errors, your algorithm is behaving correctly. You are almost ready to submit! Before you submit, go through the following submission checklist:\n",
    "\n",
    "**Submission Checklist**\n",
    "\n",
    "1. Does my code pass all tests?\n",
    "2. Does my code implement `A*` search and not some other search algorithm?\n",
    "3. Do I use an **admissible heuristic** to direct search efforts towards the goal?\n",
    "4. Do I use data structures which avoid unnecessarily slow lookups?\n",
    "\n",
    "When you can answer \"yes\" to all of these questions, submit by pressing the Submit button in the lower right!"
   ]
  },
  {
   "cell_type": "code",
   "execution_count": null,
   "metadata": {},
   "outputs": [],
   "source": [
    "from test import test\n",
    "\n",
    "test(shortest_path)"
   ]
  },
  {
   "cell_type": "code",
   "execution_count": null,
   "metadata": {},
   "outputs": [],
   "source": []
  }
 ],
 "metadata": {
  "kernelspec": {
   "display_name": "Python 3",
   "language": "python",
   "name": "python3"
  },
  "language_info": {
   "codemirror_mode": {
    "name": "ipython",
    "version": 3
   },
   "file_extension": ".py",
   "mimetype": "text/x-python",
   "name": "python",
   "nbconvert_exporter": "python",
   "pygments_lexer": "ipython3",
   "version": "3.6.3"
  }
 },
 "nbformat": 4,
 "nbformat_minor": 2
}
